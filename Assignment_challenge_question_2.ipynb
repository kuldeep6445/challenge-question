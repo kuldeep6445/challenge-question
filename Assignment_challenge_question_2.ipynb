{
  "nbformat": 4,
  "nbformat_minor": 0,
  "metadata": {
    "colab": {
      "provenance": [],
      "authorship_tag": "ABX9TyPYfzIrJe0Zq34rJFgXsGA5",
      "include_colab_link": true
    },
    "kernelspec": {
      "name": "python3",
      "display_name": "Python 3"
    },
    "language_info": {
      "name": "python"
    }
  },
  "cells": [
    {
      "cell_type": "markdown",
      "metadata": {
        "id": "view-in-github",
        "colab_type": "text"
      },
      "source": [
        "<a href=\"https://colab.research.google.com/github/kuldeep6445/challenge-question/blob/main/Assignment_challenge_question_2.ipynb\" target=\"_parent\"><img src=\"https://colab.research.google.com/assets/colab-badge.svg\" alt=\"Open In Colab\"/></a>"
      ]
    },
    {
      "cell_type": "code",
      "execution_count": null,
      "metadata": {
        "colab": {
          "base_uri": "https://localhost:8080/"
        },
        "id": "I4RtbnGOtCqb",
        "outputId": "fff93c33-b8fc-44cf-bf49-c2ab95db505b"
      },
      "outputs": [
        {
          "output_type": "stream",
          "name": "stdout",
          "text": [
            "['1', '2', '3', 'aman', 'ram', 'shyam']\n"
          ]
        }
      ],
      "source": [
        "L = [\"ram\",1,\"shyam\",2,\"aman\",3]\n",
        "#L.sort()\n",
        "#gives error\n",
        "\n",
        "L = [str(i) for i in L]\n",
        "L.sort()\n",
        "\n",
        "print(L)"
      ]
    },
    {
      "cell_type": "code",
      "source": [
        "import time\n",
        "\n",
        "start = time.time()\n",
        "\n",
        "for i in range(10000):\n",
        "  for j in range(10000):\n",
        "    x = 2\n",
        "\n",
        "end = time.time()\n",
        "\n",
        "print(end-start)"
      ],
      "metadata": {
        "colab": {
          "base_uri": "https://localhost:8080/"
        },
        "id": "Glm1COz8wbfJ",
        "outputId": "1fe98f51-75ad-4653-adc7-05835352c8a1"
      },
      "execution_count": null,
      "outputs": [
        {
          "output_type": "stream",
          "name": "stdout",
          "text": [
            "6.2312798500061035\n"
          ]
        }
      ]
    }
  ]
}